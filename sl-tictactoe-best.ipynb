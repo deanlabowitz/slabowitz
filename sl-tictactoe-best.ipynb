{
 "cells": [
  {
   "cell_type": "code",
   "execution_count": 3,
   "id": "fa52e6f6-b6ee-4fb4-a587-dfebc08bf9aa",
   "metadata": {},
   "outputs": [],
   "source": [
    "board = {1: ' ', 2: ' ', 3: ' ',\n",
    "         4: ' ', 5: ' ', 6: ' ',\n",
    "         7: ' ', 8: ' ', 9: ' '}\n",
    "player = 'O'\n",
    "bot = 'X'"
   ]
  },
  {
   "cell_type": "code",
   "execution_count": 4,
   "id": "32a065c1-dfd7-4d6f-b400-9d7789e7abca",
   "metadata": {},
   "outputs": [
    {
     "name": "stdout",
     "output_type": "stream",
     "text": [
      " | | \n",
      "-+-+-\n",
      " | | \n",
      "-+-+-\n",
      " | | \n",
      "\n",
      "\n"
     ]
    }
   ],
   "source": [
    "def printBoard(board):\n",
    "    print(board[1] + '|' + board[2] + '|' + board[3])\n",
    "    print('-+-+-')\n",
    "    print(board[4] + '|' + board[5] + '|' + board[6])\n",
    "    print('-+-+-')\n",
    "    print(board[7] + '|' + board[8] + '|' + board[9])\n",
    "    print(\"\\n\")\n",
    "\n",
    "\n",
    "def spaceIsFree(position):\n",
    "    if board[position] == ' ':\n",
    "        return True\n",
    "    else:\n",
    "        return False\n",
    "\n",
    "\n",
    "def insertLetter(letter, position):\n",
    "    if spaceIsFree(position):\n",
    "        board[position] = letter\n",
    "        printBoard(board)\n",
    "        if (checkDraw()):\n",
    "            print(\"Draw!\")\n",
    "            exit()\n",
    "        if checkForWin():\n",
    "            if letter == 'X':\n",
    "                print(\"Bot wins!\")\n",
    "                exit()\n",
    "            else:\n",
    "                print(\"Player wins!\")\n",
    "                exit()\n",
    "\n",
    "        return\n",
    "\n",
    "\n",
    "    else:\n",
    "        print(\"Can't insert there!\")\n",
    "        position = int(input(\"Please enter new position:  \"))\n",
    "        insertLetter(letter, position)\n",
    "        return\n",
    "\n",
    "\n",
    "def checkForWin():\n",
    "    if (board[1] == board[2] and board[1] == board[3] and board[1] != ' '):\n",
    "        return True\n",
    "    elif (board[4] == board[5] and board[4] == board[6] and board[4] != ' '):\n",
    "        return True\n",
    "    elif (board[7] == board[8] and board[7] == board[9] and board[7] != ' '):\n",
    "        return True\n",
    "    elif (board[1] == board[4] and board[1] == board[7] and board[1] != ' '):\n",
    "        return True\n",
    "    elif (board[2] == board[5] and board[2] == board[8] and board[2] != ' '):\n",
    "        return True\n",
    "    elif (board[3] == board[6] and board[3] == board[9] and board[3] != ' '):\n",
    "        return True\n",
    "    elif (board[1] == board[5] and board[1] == board[9] and board[1] != ' '):\n",
    "        return True\n",
    "    elif (board[7] == board[5] and board[7] == board[3] and board[7] != ' '):\n",
    "        return True\n",
    "    else:\n",
    "        return False\n",
    "\n",
    "\n",
    "def checkDraw():\n",
    "    for key in board.keys():\n",
    "        if (board[key] == ' '):\n",
    "            return False\n",
    "    return True\n",
    "\n",
    "\n",
    "def playerMove():\n",
    "    position = int(input(\"Enter the position for 'O':  \"))\n",
    "    insertLetter(player, position)\n",
    "    return\n",
    "\n",
    "\n",
    "def compMove():\n",
    "    position = int(input(\"Enter the position for 'X':  \"))\n",
    "    insertLetter(bot, position)\n",
    "    return\n",
    "\n",
    "printBoard(board)\n",
    "\n"
   ]
  },
  {
   "cell_type": "code",
   "execution_count": null,
   "id": "e26a6618-ef16-4ede-a0a0-88876644990f",
   "metadata": {},
   "outputs": [
    {
     "name": "stdin",
     "output_type": "stream",
     "text": [
      "Enter the position for 'X':   1\n"
     ]
    },
    {
     "name": "stdout",
     "output_type": "stream",
     "text": [
      "X| | \n",
      "-+-+-\n",
      " | | \n",
      "-+-+-\n",
      " | | \n",
      "\n",
      "\n"
     ]
    },
    {
     "name": "stdin",
     "output_type": "stream",
     "text": [
      "Enter the position for 'O':   3\n"
     ]
    },
    {
     "name": "stdout",
     "output_type": "stream",
     "text": [
      "X| |O\n",
      "-+-+-\n",
      " | | \n",
      "-+-+-\n",
      " | | \n",
      "\n",
      "\n"
     ]
    }
   ],
   "source": [
    "while not checkForWin():\n",
    "    compMove()\n",
    "    playerMove()"
   ]
  },
  {
   "cell_type": "code",
   "execution_count": null,
   "id": "2fc12808-89b9-4729-aae4-cda500215fd2",
   "metadata": {},
   "outputs": [],
   "source": []
  }
 ],
 "metadata": {
  "kernelspec": {
   "display_name": "Python 3",
   "language": "python",
   "name": "python3"
  },
  "language_info": {
   "codemirror_mode": {
    "name": "ipython",
    "version": 3
   },
   "file_extension": ".py",
   "mimetype": "text/x-python",
   "name": "python",
   "nbconvert_exporter": "python",
   "pygments_lexer": "ipython3",
   "version": "3.8.8"
  }
 },
 "nbformat": 4,
 "nbformat_minor": 5
}
