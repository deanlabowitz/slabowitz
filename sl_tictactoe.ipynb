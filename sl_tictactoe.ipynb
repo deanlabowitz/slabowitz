{
 "cells": [
  {
   "cell_type": "code",
   "execution_count": 5,
   "id": "f9524fb2-cd4c-4676-bdaa-6861895d8a8e",
   "metadata": {},
   "outputs": [],
   "source": [
    "# Play tic tac toe with your friends using this simple code...\n",
    "\n",
    "# First create a rudamentary multi-lined list and set up the initial conditions for play\n",
    "board = [\"-\", \"-\", \"-\",\n",
    "         \"-\", \"-\", \"-\",\n",
    "         \"-\",\"-\",\"-\"]\n",
    "currentPlayer = \"X\"\n",
    "winner = None\n",
    "gameRunning = True"
   ]
  },
  {
   "cell_type": "code",
   "execution_count": 6,
   "id": "559dc727-9a8d-48b7-80e9-7f33fb2eee3d",
   "metadata": {},
   "outputs": [
    {
     "name": "stdout",
     "output_type": "stream",
     "text": [
      "- | - | -\n",
      "---------\n",
      "- | - | -\n",
      "---------\n",
      "- | - | -\n"
     ]
    }
   ],
   "source": [
    "# create a function for the board to be called in play\n",
    "\n",
    "def printBoard(board):\n",
    "    print(board[0] + \" | \" + board[1] + \" | \" + board[2])\n",
    "    print(\"---------\")\n",
    "    print(board[3] + \" | \" + board[4] + \" | \" + board[5])\n",
    "    print(\"---------\")\n",
    "    print(board[6] + \" | \" + board[7] + \" | \" + board[8])\n",
    "printBoard(board)"
   ]
  },
  {
   "cell_type": "code",
   "execution_count": 7,
   "id": "4308ed56-6980-49a1-a976-f5fda867a636",
   "metadata": {},
   "outputs": [],
   "source": [
    "# Take player input. The board is a grid where the boxes are numbered 1-9 (does not begin at 0!)\n",
    "# We'll also want to make sure the players always choose an empty spot. \n",
    "\n",
    "def playerInput(board):\n",
    "    inp = int(input(\"Enter a number 1-9: \"))\n",
    "    if inp >= 1 and inp <= 9 and board[inp-1] == \"-\":\n",
    "        board[inp-1] = currentPlayer\n",
    "    else:\n",
    "        print(\"Spot already taken! Try again.\")\n",
    "        "
   ]
  },
  {
   "cell_type": "code",
   "execution_count": 12,
   "id": "4317ca55-2306-4c50-ab06-69c50c664ed2",
   "metadata": {},
   "outputs": [],
   "source": [
    "# check for a winner in all the various combinations possible on the board: horizontal, vertical, and diagonal.\n",
    "\n",
    "def checkHorizontal(board):\n",
    "    global winner \n",
    "    if board[0] == board[1] == board[2] and board[2] != \"-\":\n",
    "        winner = board[0]\n",
    "        return True\n",
    "    elif board[3] == board[4] == board[5] and board[3] != \"-\":\n",
    "        winner = board[3]\n",
    "        return True\n",
    "    elif board[6] == board[7] == board[8] and board[6] != \"-\":\n",
    "        winner = board[6]\n",
    "        return True\n",
    "    \n",
    "def checkVertical(board):\n",
    "    global winner\n",
    "    if board[0] == board[3] == board[6] and board[0] != \"-\":\n",
    "        winner = board[0]\n",
    "        return True\n",
    "    elif board[1] == board[4] == board[7] and board[1] != \"-\":\n",
    "        winner = board[1]\n",
    "        return True\n",
    "    elif board[2] == board[5] == board[8] and board[2] != \"-\":\n",
    "        winner = board[2]\n",
    "        return True\n",
    "    \n",
    "def checkDiagonal(board):\n",
    "    if board[0] == board[4] == board[8] and board[0] != \"-\":\n",
    "        winner = board[0]\n",
    "        return True\n",
    "    elif board[2] == board[4] == board[6] and board[2] != \"-\":\n",
    "        winner = board[2]\n",
    "        return True\n",
    "    \n",
    "# A tie is when there are no longer any empty spaces left \n",
    "    \n",
    "def checkTie(board):\n",
    "    global gameRunning\n",
    "    if \"-\" not in board:\n",
    "        printBoard(board)\n",
    "        print(\"It's a tie\")\n",
    "        gameRunning = False\n",
    "\n",
    "def checkWin():\n",
    "    global gameRunning\n",
    "    if checkDiagonal(board) or checkVertical(board) or checkHorizontal(board):\n",
    "        print(f\"The winner is {winner}\")\n",
    "        gameRunning = False\n",
    "        "
   ]
  },
  {
   "cell_type": "code",
   "execution_count": 9,
   "id": "7dcee552-7d79-4345-ba2c-c4545bae2e21",
   "metadata": {},
   "outputs": [],
   "source": [
    "# Alternate players \n",
    "\n",
    "def switchPlayer():\n",
    "    global currentPlayer\n",
    "    if currentPlayer == \"X\":\n",
    "        currentPlayer = \"O\"\n",
    "    else:\n",
    "        currentPlayer = \"X\""
   ]
  },
  {
   "cell_type": "code",
   "execution_count": 11,
   "id": "9a0bada5-94ef-48a8-8158-40e489c17d35",
   "metadata": {},
   "outputs": [
    {
     "name": "stdout",
     "output_type": "stream",
     "text": [
      "- | - | -\n",
      "---------\n",
      "- | - | -\n",
      "---------\n",
      "- | - | -\n"
     ]
    },
    {
     "name": "stdin",
     "output_type": "stream",
     "text": [
      "Enter a number 1-9:  1\n"
     ]
    },
    {
     "name": "stdout",
     "output_type": "stream",
     "text": [
      "It's O's turn\n",
      "X | - | -\n",
      "---------\n",
      "- | - | -\n",
      "---------\n",
      "- | - | -\n"
     ]
    },
    {
     "name": "stdin",
     "output_type": "stream",
     "text": [
      "Enter a number 1-9:  3\n"
     ]
    },
    {
     "name": "stdout",
     "output_type": "stream",
     "text": [
      "It's X's turn\n",
      "X | - | O\n",
      "---------\n",
      "- | - | -\n",
      "---------\n",
      "- | - | -\n"
     ]
    },
    {
     "name": "stdin",
     "output_type": "stream",
     "text": [
      "Enter a number 1-9:  2\n"
     ]
    },
    {
     "name": "stdout",
     "output_type": "stream",
     "text": [
      "It's O's turn\n",
      "X | X | O\n",
      "---------\n",
      "- | - | -\n",
      "---------\n",
      "- | - | -\n"
     ]
    },
    {
     "name": "stdin",
     "output_type": "stream",
     "text": [
      "Enter a number 1-9:  9\n"
     ]
    },
    {
     "name": "stdout",
     "output_type": "stream",
     "text": [
      "It's X's turn\n",
      "X | X | O\n",
      "---------\n",
      "- | - | -\n",
      "---------\n",
      "- | - | O\n"
     ]
    },
    {
     "name": "stdin",
     "output_type": "stream",
     "text": [
      "Enter a number 1-9:  3\n"
     ]
    },
    {
     "name": "stdout",
     "output_type": "stream",
     "text": [
      "Spot already taken! Try again.\n",
      "It's O's turn\n",
      "X | X | O\n",
      "---------\n",
      "- | - | -\n",
      "---------\n",
      "- | - | O\n"
     ]
    },
    {
     "name": "stdin",
     "output_type": "stream",
     "text": [
      "Enter a number 1-9:  4\n"
     ]
    },
    {
     "name": "stdout",
     "output_type": "stream",
     "text": [
      "It's X's turn\n",
      "X | X | O\n",
      "---------\n",
      "O | - | -\n",
      "---------\n",
      "- | - | O\n"
     ]
    },
    {
     "name": "stdin",
     "output_type": "stream",
     "text": [
      "Enter a number 1-9:  6\n"
     ]
    },
    {
     "name": "stdout",
     "output_type": "stream",
     "text": [
      "It's O's turn\n",
      "X | X | O\n",
      "---------\n",
      "O | - | X\n",
      "---------\n",
      "- | - | O\n"
     ]
    },
    {
     "name": "stdin",
     "output_type": "stream",
     "text": [
      "Enter a number 1-9:  7\n"
     ]
    },
    {
     "name": "stdout",
     "output_type": "stream",
     "text": [
      "It's X's turn\n",
      "X | X | O\n",
      "---------\n",
      "O | - | X\n",
      "---------\n",
      "O | - | O\n"
     ]
    },
    {
     "name": "stdin",
     "output_type": "stream",
     "text": [
      "Enter a number 1-9:  8\n"
     ]
    },
    {
     "name": "stdout",
     "output_type": "stream",
     "text": [
      "It's O's turn\n",
      "X | X | O\n",
      "---------\n",
      "O | - | X\n",
      "---------\n",
      "O | X | O\n"
     ]
    },
    {
     "name": "stdin",
     "output_type": "stream",
     "text": [
      "Enter a number 1-9:  6\n"
     ]
    },
    {
     "name": "stdout",
     "output_type": "stream",
     "text": [
      "Spot already taken! Try again.\n",
      "It's X's turn\n",
      "X | X | O\n",
      "---------\n",
      "O | - | X\n",
      "---------\n",
      "O | X | O\n"
     ]
    },
    {
     "name": "stdin",
     "output_type": "stream",
     "text": [
      "Enter a number 1-9:  5\n"
     ]
    },
    {
     "name": "stdout",
     "output_type": "stream",
     "text": [
      "The winner is X\n",
      "X | X | O\n",
      "---------\n",
      "O | X | X\n",
      "---------\n",
      "O | X | O\n",
      "It's a tie\n",
      "It's O's turn\n",
      "The winner is X\n",
      "X | X | O\n",
      "---------\n",
      "O | X | X\n",
      "---------\n",
      "O | X | O\n",
      "It's a tie\n"
     ]
    }
   ],
   "source": [
    "# Combine the above elements into a while loop to play! \n",
    "\n",
    "while gameRunning:\n",
    "    printBoard(board)\n",
    "    playerInput(board)\n",
    "    checkWin()\n",
    "    checkTie(board)\n",
    "    switchPlayer()\n",
    "    print(f\"It's {currentPlayer}'s turn\")\n",
    "    checkWin()\n",
    "    checkTie(board)\n"
   ]
  },
  {
   "cell_type": "code",
   "execution_count": null,
   "id": "0853f337-073d-4f3d-939e-6138aa9b656a",
   "metadata": {},
   "outputs": [],
   "source": []
  }
 ],
 "metadata": {
  "kernelspec": {
   "display_name": "Python 3",
   "language": "python",
   "name": "python3"
  },
  "language_info": {
   "codemirror_mode": {
    "name": "ipython",
    "version": 3
   },
   "file_extension": ".py",
   "mimetype": "text/x-python",
   "name": "python",
   "nbconvert_exporter": "python",
   "pygments_lexer": "ipython3",
   "version": "3.8.8"
  }
 },
 "nbformat": 4,
 "nbformat_minor": 5
}
